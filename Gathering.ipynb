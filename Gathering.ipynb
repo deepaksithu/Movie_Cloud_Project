{
 "cells": [
  {
   "cell_type": "code",
   "execution_count": 53,
   "metadata": {},
   "outputs": [],
   "source": [
    "import requests\n",
    "# to store the downloaded file in the folder 'ebert_reviews'\n",
    "import os\n",
    "import glob\n",
    "import pandas as pd\n",
    "import wptools"
   ]
  },
  {
   "cell_type": "code",
   "execution_count": 16,
   "metadata": {},
   "outputs": [],
   "source": [
    "# make directory if it doesn't already exist\n",
    "folder_name = 'ebert_reviews'\n",
    "if not os.path.exists(folder_name):\n",
    "    os.makedirs(folder_name)"
   ]
  },
  {
   "cell_type": "code",
   "execution_count": 17,
   "metadata": {},
   "outputs": [],
   "source": [
    "ebert_review_urls = ['https://d17h27t6h515a5.cloudfront.net/topher/2017/September/59ad9900_1-the-wizard-of-oz-1939-film/1-the-wizard-of-oz-1939-film.txt',\n",
    "                     'https://d17h27t6h515a5.cloudfront.net/topher/2017/September/59ad9901_2-citizen-kane/2-citizen-kane.txt',\n",
    "                     'https://d17h27t6h515a5.cloudfront.net/topher/2017/September/59ad9901_3-the-third-man/3-the-third-man.txt',\n",
    "                     'https://d17h27t6h515a5.cloudfront.net/topher/2017/September/59ad9902_4-get-out-film/4-get-out-film.txt',\n",
    "                     'https://d17h27t6h515a5.cloudfront.net/topher/2017/September/59ad9902_5-mad-max-fury-road/5-mad-max-fury-road.txt',\n",
    "                     'https://d17h27t6h515a5.cloudfront.net/topher/2017/September/59ad9902_6-the-cabinet-of-dr.-caligari/6-the-cabinet-of-dr.-caligari.txt',\n",
    "                     'https://d17h27t6h515a5.cloudfront.net/topher/2017/September/59ad9903_7-all-about-eve/7-all-about-eve.txt',\n",
    "                     'https://d17h27t6h515a5.cloudfront.net/topher/2017/September/59ad9903_8-inside-out-2015-film/8-inside-out-2015-film.txt',\n",
    "                     'https://d17h27t6h515a5.cloudfront.net/topher/2017/September/59ad9903_9-the-godfather/9-the-godfather.txt',\n",
    "                     'https://d17h27t6h515a5.cloudfront.net/topher/2017/September/59ad9904_10-metropolis-1927-film/10-metropolis-1927-film.txt',\n",
    "                     'https://d17h27t6h515a5.cloudfront.net/topher/2017/September/59ad9904_11-e.t.-the-extra-terrestrial/11-e.t.-the-extra-terrestrial.txt',\n",
    "                     'https://d17h27t6h515a5.cloudfront.net/topher/2017/September/59ad9904_12-modern-times-film/12-modern-times-film.txt',\n",
    "                     'https://d17h27t6h515a5.cloudfront.net/topher/2017/September/59ad9904_14-singin-in-the-rain/14-singin-in-the-rain.txt',\n",
    "                     'https://d17h27t6h515a5.cloudfront.net/topher/2017/September/59ad9905_15-boyhood-film/15-boyhood-film.txt',\n",
    "                     'https://d17h27t6h515a5.cloudfront.net/topher/2017/September/59ad9905_16-casablanca-film/16-casablanca-film.txt',\n",
    "                     'https://d17h27t6h515a5.cloudfront.net/topher/2017/September/59ad9905_17-moonlight-2016-film/17-moonlight-2016-film.txt',\n",
    "                     'https://d17h27t6h515a5.cloudfront.net/topher/2017/September/59ad9906_18-psycho-1960-film/18-psycho-1960-film.txt',\n",
    "                     'https://d17h27t6h515a5.cloudfront.net/topher/2017/September/59ad9906_19-laura-1944-film/19-laura-1944-film.txt',\n",
    "                     'https://d17h27t6h515a5.cloudfront.net/topher/2017/September/59ad9906_20-nosferatu/20-nosferatu.txt',\n",
    "                     'https://d17h27t6h515a5.cloudfront.net/topher/2017/September/59ad9907_21-snow-white-and-the-seven-dwarfs-1937-film/21-snow-white-and-the-seven-dwarfs-1937-film.txt',\n",
    "                     'https://d17h27t6h515a5.cloudfront.net/topher/2017/September/59ad9907_22-a-hard-day27s-night-film/22-a-hard-day27s-night-film.txt',\n",
    "                     'https://d17h27t6h515a5.cloudfront.net/topher/2017/September/59ad9907_23-la-grande-illusion/23-la-grande-illusion.txt',\n",
    "                     'https://d17h27t6h515a5.cloudfront.net/topher/2017/September/59ad9908_25-the-battle-of-algiers/25-the-battle-of-algiers.txt',\n",
    "                     'https://d17h27t6h515a5.cloudfront.net/topher/2017/September/59ad9908_26-dunkirk-2017-film/26-dunkirk-2017-film.txt',\n",
    "                     'https://d17h27t6h515a5.cloudfront.net/topher/2017/September/59ad9908_27-the-maltese-falcon-1941-film/27-the-maltese-falcon-1941-film.txt',\n",
    "                     'https://d17h27t6h515a5.cloudfront.net/topher/2017/September/59ad9909_29-12-years-a-slave-film/29-12-years-a-slave-film.txt',\n",
    "                     'https://d17h27t6h515a5.cloudfront.net/topher/2017/September/59ad9909_30-gravity-2013-film/30-gravity-2013-film.txt',\n",
    "                     'https://d17h27t6h515a5.cloudfront.net/topher/2017/September/59ad9909_31-sunset-boulevard-film/31-sunset-boulevard-film.txt',\n",
    "                     'https://d17h27t6h515a5.cloudfront.net/topher/2017/September/59ad990a_32-king-kong-1933-film/32-king-kong-1933-film.txt',\n",
    "                     'https://d17h27t6h515a5.cloudfront.net/topher/2017/September/59ad990a_33-spotlight-film/33-spotlight-film.txt',\n",
    "                     'https://d17h27t6h515a5.cloudfront.net/topher/2017/September/59ad990a_34-the-adventures-of-robin-hood/34-the-adventures-of-robin-hood.txt',\n",
    "                     'https://d17h27t6h515a5.cloudfront.net/topher/2017/September/59ad990b_35-rashomon/35-rashomon.txt',\n",
    "                     'https://d17h27t6h515a5.cloudfront.net/topher/2017/September/59ad990b_36-rear-window/36-rear-window.txt',\n",
    "                     'https://d17h27t6h515a5.cloudfront.net/topher/2017/September/59ad990b_37-selma-film/37-selma-film.txt',\n",
    "                     'https://d17h27t6h515a5.cloudfront.net/topher/2017/September/59ad990c_38-taxi-driver/38-taxi-driver.txt',\n",
    "                     'https://d17h27t6h515a5.cloudfront.net/topher/2017/September/59ad990c_39-toy-story-3/39-toy-story-3.txt',\n",
    "                     'https://d17h27t6h515a5.cloudfront.net/topher/2017/September/59ad990c_40-argo-2012-film/40-argo-2012-film.txt',\n",
    "                     'https://d17h27t6h515a5.cloudfront.net/topher/2017/September/59ad990d_41-toy-story-2/41-toy-story-2.txt',\n",
    "                     'https://d17h27t6h515a5.cloudfront.net/topher/2017/September/59ad990d_42-the-big-sick/42-the-big-sick.txt',\n",
    "                     'https://d17h27t6h515a5.cloudfront.net/topher/2017/September/59ad990d_43-bride-of-frankenstein/43-bride-of-frankenstein.txt',\n",
    "                     'https://d17h27t6h515a5.cloudfront.net/topher/2017/September/59ad990d_44-zootopia/44-zootopia.txt',\n",
    "                     'https://d17h27t6h515a5.cloudfront.net/topher/2017/September/59ad990e_45-m-1931-film/45-m-1931-film.txt',\n",
    "                     'https://d17h27t6h515a5.cloudfront.net/topher/2017/September/59ad990e_46-wonder-woman-2017-film/46-wonder-woman-2017-film.txt',\n",
    "                     'https://d17h27t6h515a5.cloudfront.net/topher/2017/September/59ad990e_48-alien-film/48-alien-film.txt',\n",
    "                     'https://d17h27t6h515a5.cloudfront.net/topher/2017/September/59ad990f_49-bicycle-thieves/49-bicycle-thieves.txt',\n",
    "                     'https://d17h27t6h515a5.cloudfront.net/topher/2017/September/59ad990f_50-seven-samurai/50-seven-samurai.txt',\n",
    "                     'https://d17h27t6h515a5.cloudfront.net/topher/2017/September/59ad990f_51-the-treasure-of-the-sierra-madre-film/51-the-treasure-of-the-sierra-madre-film.txt',\n",
    "                     'https://d17h27t6h515a5.cloudfront.net/topher/2017/September/59ad9910_52-up-2009-film/52-up-2009-film.txt',\n",
    "                     'https://d17h27t6h515a5.cloudfront.net/topher/2017/September/59ad9910_53-12-angry-men-1957-film/53-12-angry-men-1957-film.txt',\n",
    "                     'https://d17h27t6h515a5.cloudfront.net/topher/2017/September/59ad9910_54-the-400-blows/54-the-400-blows.txt',\n",
    "                     'https://d17h27t6h515a5.cloudfront.net/topher/2017/September/59ad9911_55-logan-film/55-logan-film.txt',\n",
    "                     'https://d17h27t6h515a5.cloudfront.net/topher/2017/September/59ad9911_57-army-of-shadows/57-army-of-shadows.txt',\n",
    "                     'https://d17h27t6h515a5.cloudfront.net/topher/2017/September/59ad9912_58-arrival-film/58-arrival-film.txt',\n",
    "                     'https://d17h27t6h515a5.cloudfront.net/topher/2017/September/59ad9912_59-baby-driver/59-baby-driver.txt',\n",
    "                     'https://d17h27t6h515a5.cloudfront.net/topher/2017/September/59ad9913_60-a-streetcar-named-desire-1951-film/60-a-streetcar-named-desire-1951-film.txt',\n",
    "                     'https://d17h27t6h515a5.cloudfront.net/topher/2017/September/59ad9913_61-the-night-of-the-hunter-film/61-the-night-of-the-hunter-film.txt',\n",
    "                     'https://d17h27t6h515a5.cloudfront.net/topher/2017/September/59ad9913_62-star-wars-the-force-awakens/62-star-wars-the-force-awakens.txt',\n",
    "                     'https://d17h27t6h515a5.cloudfront.net/topher/2017/September/59ad9913_63-manchester-by-the-sea-film/63-manchester-by-the-sea-film.txt',\n",
    "                     'https://d17h27t6h515a5.cloudfront.net/topher/2017/September/59ad9914_64-dr.-strangelove/64-dr.-strangelove.txt',\n",
    "                     'https://d17h27t6h515a5.cloudfront.net/topher/2017/September/59ad9914_66-vertigo-film/66-vertigo-film.txt',\n",
    "                     'https://d17h27t6h515a5.cloudfront.net/topher/2017/September/59ad9914_67-the-dark-knight-film/67-the-dark-knight-film.txt',\n",
    "                     'https://d17h27t6h515a5.cloudfront.net/topher/2017/September/59ad9915_68-touch-of-evil/68-touch-of-evil.txt',\n",
    "                     'https://d17h27t6h515a5.cloudfront.net/topher/2017/September/59ad9915_69-the-babadook/69-the-babadook.txt',\n",
    "                     'https://d17h27t6h515a5.cloudfront.net/topher/2017/September/59ad9915_72-rosemary27s-baby-film/72-rosemary27s-baby-film.txt',\n",
    "                     'https://d17h27t6h515a5.cloudfront.net/topher/2017/September/59ad9916_73-finding-nemo/73-finding-nemo.txt',\n",
    "                     'https://d17h27t6h515a5.cloudfront.net/topher/2017/September/59ad9916_74-brooklyn-film/74-brooklyn-film.txt',\n",
    "                     'https://d17h27t6h515a5.cloudfront.net/topher/2017/September/59ad9917_75-the-wrestler-2008-film/75-the-wrestler-2008-film.txt',\n",
    "                     'https://d17h27t6h515a5.cloudfront.net/topher/2017/September/59ad9917_77-l.a.-confidential-film/77-l.a.-confidential-film.txt',\n",
    "                     'https://d17h27t6h515a5.cloudfront.net/topher/2017/September/59ad9918_78-gone-with-the-wind-film/78-gone-with-the-wind-film.txt',\n",
    "                     'https://d17h27t6h515a5.cloudfront.net/topher/2017/September/59ad9918_79-the-good-the-bad-and-the-ugly/79-the-good-the-bad-and-the-ugly.txt',\n",
    "                     'https://d17h27t6h515a5.cloudfront.net/topher/2017/September/59ad9918_80-skyfall/80-skyfall.txt',\n",
    "                     'https://d17h27t6h515a5.cloudfront.net/topher/2017/September/59ad9919_82-tokyo-story/82-tokyo-story.txt',\n",
    "                     'https://d17h27t6h515a5.cloudfront.net/topher/2017/September/59ad9919_83-hell-or-high-water-film/83-hell-or-high-water-film.txt',\n",
    "                     'https://d17h27t6h515a5.cloudfront.net/topher/2017/September/59ad9919_84-pinocchio-1940-film/84-pinocchio-1940-film.txt',\n",
    "                     'https://d17h27t6h515a5.cloudfront.net/topher/2017/September/59ad9919_85-the-jungle-book-2016-film/85-the-jungle-book-2016-film.txt',\n",
    "                     'https://d17h27t6h515a5.cloudfront.net/topher/2017/September/59ad991a_86-la-la-land-film/86-la-la-land-film.txt',\n",
    "                     'https://d17h27t6h515a5.cloudfront.net/topher/2017/September/59ad991b_87-star-trek-film/87-star-trek-film.txt',\n",
    "                     'https://d17h27t6h515a5.cloudfront.net/topher/2017/September/59ad991b_89-apocalypse-now/89-apocalypse-now.txt',\n",
    "                     'https://d17h27t6h515a5.cloudfront.net/topher/2017/September/59ad991c_90-on-the-waterfront/90-on-the-waterfront.txt',\n",
    "                     'https://d17h27t6h515a5.cloudfront.net/topher/2017/September/59ad991c_91-the-wages-of-fear/91-the-wages-of-fear.txt',\n",
    "                     'https://d17h27t6h515a5.cloudfront.net/topher/2017/September/59ad991c_92-the-last-picture-show/92-the-last-picture-show.txt',\n",
    "                     'https://d17h27t6h515a5.cloudfront.net/topher/2017/September/59ad991d_93-harry-potter-and-the-deathly-hallows-part-2/93-harry-potter-and-the-deathly-hallows-part-2.txt',\n",
    "                     'https://d17h27t6h515a5.cloudfront.net/topher/2017/September/59ad991d_94-the-grapes-of-wrath-film/94-the-grapes-of-wrath-film.txt',\n",
    "                     'https://d17h27t6h515a5.cloudfront.net/topher/2017/September/59ad991d_96-man-on-wire/96-man-on-wire.txt',\n",
    "                     'https://d17h27t6h515a5.cloudfront.net/topher/2017/September/59ad991e_97-jaws-film/97-jaws-film.txt',\n",
    "                     'https://d17h27t6h515a5.cloudfront.net/topher/2017/September/59ad991e_98-toy-story/98-toy-story.txt',\n",
    "                     'https://d17h27t6h515a5.cloudfront.net/topher/2017/September/59ad991e_99-the-godfather-part-ii/99-the-godfather-part-ii.txt',\n",
    "                     'https://d17h27t6h515a5.cloudfront.net/topher/2017/September/59ad991e_100-battleship-potemkin/100-battleship-potemkin.txt']"
   ]
  },
  {
   "cell_type": "code",
   "execution_count": 18,
   "metadata": {},
   "outputs": [],
   "source": [
    "for x in range(len(ebert_review_urls)):\n",
    "    url = ebert_review_urls[x]\n",
    "    response = requests.get(url)\n",
    "    with open(os.path.join(folder_name, url.split('/')[-1]), mode='wb') as file:\n",
    "        file.write(response.content)"
   ]
  },
  {
   "cell_type": "code",
   "execution_count": 19,
   "metadata": {},
   "outputs": [
    {
     "data": {
      "text/plain": [
       "88"
      ]
     },
     "execution_count": 19,
     "metadata": {},
     "output_type": "execute_result"
    }
   ],
   "source": [
    "# check if all files are in folder\n",
    "len(os.listdir(folder_name))"
   ]
  },
  {
   "cell_type": "code",
   "execution_count": 26,
   "metadata": {},
   "outputs": [
    {
     "name": "stdout",
     "output_type": "stream",
     "text": [
      "The Wizard of Oz (1939)\n",
      "http://www.rogerebert.com/reviews/great-movie-the-wizard-of-oz-1939\n",
      "As a child I simply did not notice whether a movie was in color or not. The movies themselves were such an overwhelming mystery that if they wanted to be in black and white, that was their business. It was not until I saw \"The Wizard of Oz\" for the first time that I consciously noticed B&W versus color, as Dorothy was blown out of Kansas and into Oz. What did I think? It made good sense to me.\n",
      "\n",
      "The switch from black and white to color would have had a special resonance in 1939, when the movie was made. Almost all films were still being made in black and white, and the cumbersome new color cameras came with a “Technicolor consultant” from the factory, who stood next to the cinematographer and officiously suggested higher light levels. Shooting in color might have been indicated because the film was MGM's response to the huge success of Disney's pioneering color animated feature, \"Snow White and the Seven Dwarfs\" (1937).\n",
      "\n",
      "If “Wizard” began in one way and continued in another, that was also the history of the production. Richard Thorpe, the original director, was fired after 12 days. George Cukor filled in for three days, long enough to tell Judy Garland to lose the wig and the makeup, and then Victor Fleming took over. When Fleming went to “Gone With the Wind,” King Vidor did some of the Munchkin sequences, and the Kansas scenes.\n",
      "\n",
      "There were cast changes, too; after Buddy Ebsen, as the Tin Man, had an allergic reaction to the silvery makeup, he was replaced by Jack Haley. Musical numbers were recorded and never used. Margaret Hamilton (the Wicked Witch of the West) was seriously burned when she went up in a puff of smoke. Even Toto was out of commission for two weeks after being stepped on by a crewmember.\n",
      "\n",
      "We study all of these details, I think, because “The Wizard of Oz” fills such a large space in our imagination. It somehow seems real and important in a way most movies don't. Is that because we see it first when we’re young? Or simply because it is a wonderful movie? Or because it sounds some buried universal note, some archetype or deeply felt myth?\n",
      "\n",
      "I lean toward the third possibility, that the elements in “The Wizard of Oz” powerfully fill a void that exists inside many children. For kids of a certain age, home is everything, the center of the world. But over the rainbow, dimly guessed at, is the wide earth, fascinating and terrifying. There is a deep fundamental fear that events might conspire to transport the child from the safety of home and strand him far away in a strange land. And what would he hope to find there? Why, new friends, to advise and protect him. And Toto, of course, because children have such a strong symbiotic relationship with their pets that they assume they would get lost together.\n",
      "\n",
      "This deep universal appeal explains why so many different people from many backgrounds have a compartment of their memory reserved for “The Wizard of Oz.” Salman Rushdie, growing up in Bombay, remembers that seeing the film at 10 “made a writer of me.” Terry McMillan, as an African-American child in northern Michigan, “completely identified when no one had time to listen to Dorothy.” Rushdie wrote that the film's “driving force is the inadequacy of adults, even of good adults, and how the weakness of grownups forces children to take control of their own destinies.” McMillan learned about courage, about “being afraid but doing whatever it was you set out to do anyway.”\n",
      "\n",
      "They're touching on the key lesson of childhood, which is that someday the child will not be a child, that home will no longer exist, that adults will be no help because now the child is an adult and must face the challenges of life alone. But that you can ask friends to help you. And that even the Wizard of Oz is only human, and has problems of his own.\n",
      "\n",
      "“The Wizard of Oz” has a wonderful surface of comedy and music, special effects and excitement, but we still watch it six decades later because its underlying story penetrates straight to the deepest insecurities of childhood, stirs them and then reassures them. As adults, we love it because it reminds us of a journey we have taken. That is why any adult in control of a child is sooner or later going to suggest a viewing of “The Wizard of Oz.”\n",
      "\n",
      "Judy Garland had, I gather, an unhappy childhood (there are those stories about MGM quacks shooting her full of speed in the morning and tranquilizers at day's end), but she was a luminous performer, already almost17 when she played young Dorothy. She was important to the movie because she projected vulnerability and a certain sadness in every tone of her voice. A brassy young child star (a young Ethel Merman, say) would have been fatal to the material because she would have approached it with too much bravado. Garland’s whole persona projected a tremulous uncertainty, a wistfulness. When she hoped that troubles would melt like lemon drops, you believed she had troubles.\n",
      "\n",
      "Her friends on the Yellow Brick Road (the Tin Man, the Scarecrow, the Cowardly Lion) were projections of every child's secret fears. Are we real? Are we ugly and silly? Are we brave enough? In helping them, Dorothy was helping herself, just as an older child will overcome fears by acting brave before a younger one.\n",
      "\n",
      "The actors (Jack Haley, Ray Bolger, Bert Lahr) had all come up through a tradition of vaudeville and revue comedy, and played the characters with a sublime unself-consciousness. Maybe it helped that none of them knew they were making a great movie. They seem relaxed and loose in many scenes, as if the roles were a lark. L. Frank Baum's book had been filmed before (Oliver Hardy played the Tin Man in 1925), and this version, while ambitious, was overshadowed by the studio's simultaneous preparation of “Gone With the Wind.” Garland was already a star when she made “Wizard,” but not a great star--that came in the 1940s, inspired by “Wizard.”\n",
      "\n",
      "The special effects are glorious in that old Hollywood way, in which you don't even have to look closely to see where the set ends and the backdrop begins. Modern special effects show *exactly* how imaginary scenes might look; effects then showed how we *thought* about them. A bigger Yellow Brick Road would not have been a better one.\n",
      "\n",
      "The movie's storytelling device of a dream is just precisely obvious enough to appeal to younger viewers. Dorothy, faced with a crisis (the loss of Toto), meets the intriguing Professor Marvel (Frank Morgan) on the road. She is befriended by three farm hands (Bolger, Haley and Lahr). Soon comes the fearsome tornado. (What frightened me was that you could see individual things floating by--for months I dreamed circling around and around while seated at the little desk in my bedroom, looking at classmates being swept mutely past me.) Then, after the magical transition to color, Dorothy meets the same characters again, so we know it's all a dream, but not really.\n",
      "\n",
      "There are good and bad adult figures in Oz--the Wicked Witches of the East and West, the Good Witch Glinda. Dorothy would like help from her friends but needs to help them instead (“If I Only Had a Brain,” or a heart, or nerve, they sing). Arriving at last at the Emerald City, they have another dreamlike experience; almost everyone they meet seems vaguely similar (because they’re all played by Morgan). The Wizard sends them on a mission to get the Wicked Witch's broom, and it is not insignificant that the key to Dorothy’s return to Kansas is the pair of ruby slippers. Grownup shoes.\n",
      "\n",
      "The ending has always seemed poignant to me. Dorothy is back in Kansas, but the color has drained from the film, and her magical friends are mundane once again. “The land of Oz wasn't such a bad place to be stuck in,” decided young Terry McMillan, discontented with her life in Michigan. “It beat the farm in Kansas.”\n"
     ]
    }
   ],
   "source": [
    "# to get all of the reviews, which we don't want\n",
    "for ebert_review in glob.glob('ebert_reviews/*.txt'):\n",
    "    # using correct encoding\n",
    "    with open(ebert_review, encoding='utf-8') as file:\n",
    "        print(file.read())\n",
    "        break"
   ]
  },
  {
   "cell_type": "code",
   "execution_count": 30,
   "metadata": {},
   "outputs": [
    {
     "name": "stdout",
     "output_type": "stream",
     "text": [
      "The Wizard of Oz (1939)\n",
      "\n"
     ]
    }
   ],
   "source": [
    "# return list of 'pathnames' which match 'pathname'\n",
    "for ebert_review in glob.glob('ebert_reviews/*.txt'):\n",
    "    with open(ebert_review, encoding='utf-8') as file:\n",
    "        print(file.readline())\n",
    "        break"
   ]
  },
  {
   "cell_type": "code",
   "execution_count": 36,
   "metadata": {},
   "outputs": [
    {
     "name": "stdout",
     "output_type": "stream",
     "text": [
      "The Wizard of Oz (1939)\n",
      "http://www.rogerebert.com/reviews/great-movie-the-wizard-of-oz-1939\n",
      "As a child I simply did not notice whether a movie was in color or not. The movies themselves were such an overwhelming mystery that if they wanted to be in black and white, that was their business. It was not until I saw \"The Wizard of Oz\" for the first time that I consciously noticed B&W versus color, as Dorothy was blown out of Kansas and into Oz. What did I think? It made good sense to me.\n",
      "\n",
      "The switch from black and white to color would have had a special resonance in 1939, when the movie was made. Almost all films were still being made in black and white, and the cumbersome new color cameras came with a “Technicolor consultant” from the factory, who stood next to the cinematographer and officiously suggested higher light levels. Shooting in color might have been indicated because the film was MGM's response to the huge success of Disney's pioneering color animated feature, \"Snow White and the Seven Dwarfs\" (1937).\n",
      "\n",
      "If “Wizard” began in one way and continued in another, that was also the history of the production. Richard Thorpe, the original director, was fired after 12 days. George Cukor filled in for three days, long enough to tell Judy Garland to lose the wig and the makeup, and then Victor Fleming took over. When Fleming went to “Gone With the Wind,” King Vidor did some of the Munchkin sequences, and the Kansas scenes.\n",
      "\n",
      "There were cast changes, too; after Buddy Ebsen, as the Tin Man, had an allergic reaction to the silvery makeup, he was replaced by Jack Haley. Musical numbers were recorded and never used. Margaret Hamilton (the Wicked Witch of the West) was seriously burned when she went up in a puff of smoke. Even Toto was out of commission for two weeks after being stepped on by a crewmember.\n",
      "\n",
      "We study all of these details, I think, because “The Wizard of Oz” fills such a large space in our imagination. It somehow seems real and important in a way most movies don't. Is that because we see it first when we’re young? Or simply because it is a wonderful movie? Or because it sounds some buried universal note, some archetype or deeply felt myth?\n",
      "\n",
      "I lean toward the third possibility, that the elements in “The Wizard of Oz” powerfully fill a void that exists inside many children. For kids of a certain age, home is everything, the center of the world. But over the rainbow, dimly guessed at, is the wide earth, fascinating and terrifying. There is a deep fundamental fear that events might conspire to transport the child from the safety of home and strand him far away in a strange land. And what would he hope to find there? Why, new friends, to advise and protect him. And Toto, of course, because children have such a strong symbiotic relationship with their pets that they assume they would get lost together.\n",
      "\n",
      "This deep universal appeal explains why so many different people from many backgrounds have a compartment of their memory reserved for “The Wizard of Oz.” Salman Rushdie, growing up in Bombay, remembers that seeing the film at 10 “made a writer of me.” Terry McMillan, as an African-American child in northern Michigan, “completely identified when no one had time to listen to Dorothy.” Rushdie wrote that the film's “driving force is the inadequacy of adults, even of good adults, and how the weakness of grownups forces children to take control of their own destinies.” McMillan learned about courage, about “being afraid but doing whatever it was you set out to do anyway.”\n",
      "\n",
      "They're touching on the key lesson of childhood, which is that someday the child will not be a child, that home will no longer exist, that adults will be no help because now the child is an adult and must face the challenges of life alone. But that you can ask friends to help you. And that even the Wizard of Oz is only human, and has problems of his own.\n",
      "\n",
      "“The Wizard of Oz” has a wonderful surface of comedy and music, special effects and excitement, but we still watch it six decades later because its underlying story penetrates straight to the deepest insecurities of childhood, stirs them and then reassures them. As adults, we love it because it reminds us of a journey we have taken. That is why any adult in control of a child is sooner or later going to suggest a viewing of “The Wizard of Oz.”\n",
      "\n",
      "Judy Garland had, I gather, an unhappy childhood (there are those stories about MGM quacks shooting her full of speed in the morning and tranquilizers at day's end), but she was a luminous performer, already almost17 when she played young Dorothy. She was important to the movie because she projected vulnerability and a certain sadness in every tone of her voice. A brassy young child star (a young Ethel Merman, say) would have been fatal to the material because she would have approached it with too much bravado. Garland’s whole persona projected a tremulous uncertainty, a wistfulness. When she hoped that troubles would melt like lemon drops, you believed she had troubles.\n",
      "\n",
      "Her friends on the Yellow Brick Road (the Tin Man, the Scarecrow, the Cowardly Lion) were projections of every child's secret fears. Are we real? Are we ugly and silly? Are we brave enough? In helping them, Dorothy was helping herself, just as an older child will overcome fears by acting brave before a younger one.\n",
      "\n",
      "The actors (Jack Haley, Ray Bolger, Bert Lahr) had all come up through a tradition of vaudeville and revue comedy, and played the characters with a sublime unself-consciousness. Maybe it helped that none of them knew they were making a great movie. They seem relaxed and loose in many scenes, as if the roles were a lark. L. Frank Baum's book had been filmed before (Oliver Hardy played the Tin Man in 1925), and this version, while ambitious, was overshadowed by the studio's simultaneous preparation of “Gone With the Wind.” Garland was already a star when she made “Wizard,” but not a great star--that came in the 1940s, inspired by “Wizard.”\n",
      "\n",
      "The special effects are glorious in that old Hollywood way, in which you don't even have to look closely to see where the set ends and the backdrop begins. Modern special effects show *exactly* how imaginary scenes might look; effects then showed how we *thought* about them. A bigger Yellow Brick Road would not have been a better one.\n",
      "\n",
      "The movie's storytelling device of a dream is just precisely obvious enough to appeal to younger viewers. Dorothy, faced with a crisis (the loss of Toto), meets the intriguing Professor Marvel (Frank Morgan) on the road. She is befriended by three farm hands (Bolger, Haley and Lahr). Soon comes the fearsome tornado. (What frightened me was that you could see individual things floating by--for months I dreamed circling around and around while seated at the little desk in my bedroom, looking at classmates being swept mutely past me.) Then, after the magical transition to color, Dorothy meets the same characters again, so we know it's all a dream, but not really.\n",
      "\n",
      "There are good and bad adult figures in Oz--the Wicked Witches of the East and West, the Good Witch Glinda. Dorothy would like help from her friends but needs to help them instead (“If I Only Had a Brain,” or a heart, or nerve, they sing). Arriving at last at the Emerald City, they have another dreamlike experience; almost everyone they meet seems vaguely similar (because they’re all played by Morgan). The Wizard sends them on a mission to get the Wicked Witch's broom, and it is not insignificant that the key to Dorothy’s return to Kansas is the pair of ruby slippers. Grownup shoes.\n",
      "\n",
      "The ending has always seemed poignant to me. Dorothy is back in Kansas, but the color has drained from the film, and her magical friends are mundane once again. “The land of Oz wasn't such a bad place to be stuck in,” decided young Terry McMillan, discontented with her life in Michigan. “It beat the farm in Kansas.\n"
     ]
    }
   ],
   "source": [
    "# test loop\n",
    "df_list = []\n",
    "for ebert_review in glob.glob('ebert_reviews/*.txt'):\n",
    "    with open(ebert_review, encoding='utf-8') as file:\n",
    "        title = file.readline()[:-1]\n",
    "        review_url = file.readline()[:-1]\n",
    "        review_text = file.read()\n",
    "        df_list.append({'title': title,\n",
    "                       'review_url': review_url,\n",
    "                       'review_text': review_text})\n",
    "        print(title)\n",
    "        print(review_url)\n",
    "        print(review_text)\n",
    "        break"
   ]
  },
  {
   "cell_type": "code",
   "execution_count": 37,
   "metadata": {},
   "outputs": [],
   "source": [
    "# run loop\n",
    "df_list = []\n",
    "for ebert_review in glob.glob('ebert_reviews/*.txt'):\n",
    "    with open(ebert_review, encoding='utf-8') as file:\n",
    "        title = file.readline()[:-1]\n",
    "        review_url = file.readline()[:-1]\n",
    "        review_text = file.read()\n",
    "        df_list.append({'title': title,\n",
    "                       'review_url': review_url,\n",
    "                       'review_text': review_text})"
   ]
  },
  {
   "cell_type": "code",
   "execution_count": 38,
   "metadata": {},
   "outputs": [],
   "source": [
    "# create pandas DataFrame\n",
    "df = pd.DataFrame(df_list, columns = ['title', 'review_url', 'review_text'])"
   ]
  },
  {
   "cell_type": "code",
   "execution_count": 39,
   "metadata": {},
   "outputs": [
    {
     "data": {
      "text/html": [
       "<div>\n",
       "<style scoped>\n",
       "    .dataframe tbody tr th:only-of-type {\n",
       "        vertical-align: middle;\n",
       "    }\n",
       "\n",
       "    .dataframe tbody tr th {\n",
       "        vertical-align: top;\n",
       "    }\n",
       "\n",
       "    .dataframe thead th {\n",
       "        text-align: right;\n",
       "    }\n",
       "</style>\n",
       "<table border=\"1\" class=\"dataframe\">\n",
       "  <thead>\n",
       "    <tr style=\"text-align: right;\">\n",
       "      <th></th>\n",
       "      <th>title</th>\n",
       "      <th>review_url</th>\n",
       "      <th>review_text</th>\n",
       "    </tr>\n",
       "  </thead>\n",
       "  <tbody>\n",
       "    <tr>\n",
       "      <th>0</th>\n",
       "      <td>The Wizard of Oz (1939)</td>\n",
       "      <td>http://www.rogerebert.com/reviews/great-movie-...</td>\n",
       "      <td>As a child I simply did not notice whether a m...</td>\n",
       "    </tr>\n",
       "    <tr>\n",
       "      <th>1</th>\n",
       "      <td>Metropolis (1927)</td>\n",
       "      <td>http://www.rogerebert.com/reviews/great-movie-...</td>\n",
       "      <td>The opening shots of the restored “Metropolis”...</td>\n",
       "    </tr>\n",
       "    <tr>\n",
       "      <th>2</th>\n",
       "      <td>Battleship Potemkin (1925)</td>\n",
       "      <td>http://www.rogerebert.com/reviews/great-movie-...</td>\n",
       "      <td>\"The Battleship Potemkin” has been so famous f...</td>\n",
       "    </tr>\n",
       "    <tr>\n",
       "      <th>3</th>\n",
       "      <td>E.T. The Extra-Terrestrial (1982)</td>\n",
       "      <td>http://www.rogerebert.com/reviews/great-movie-...</td>\n",
       "      <td>Dear Raven and Emil:\\n\\nSunday we sat on the b...</td>\n",
       "    </tr>\n",
       "    <tr>\n",
       "      <th>4</th>\n",
       "      <td>Modern Times (1936)</td>\n",
       "      <td>http://www.rogerebert.com/reviews/modern-times...</td>\n",
       "      <td>A lot of movies are said to be timeless, but s...</td>\n",
       "    </tr>\n",
       "  </tbody>\n",
       "</table>\n",
       "</div>"
      ],
      "text/plain": [
       "                               title  \\\n",
       "0            The Wizard of Oz (1939)   \n",
       "1                  Metropolis (1927)   \n",
       "2         Battleship Potemkin (1925)   \n",
       "3  E.T. The Extra-Terrestrial (1982)   \n",
       "4                Modern Times (1936)   \n",
       "\n",
       "                                          review_url  \\\n",
       "0  http://www.rogerebert.com/reviews/great-movie-...   \n",
       "1  http://www.rogerebert.com/reviews/great-movie-...   \n",
       "2  http://www.rogerebert.com/reviews/great-movie-...   \n",
       "3  http://www.rogerebert.com/reviews/great-movie-...   \n",
       "4  http://www.rogerebert.com/reviews/modern-times...   \n",
       "\n",
       "                                         review_text  \n",
       "0  As a child I simply did not notice whether a m...  \n",
       "1  The opening shots of the restored “Metropolis”...  \n",
       "2  \"The Battleship Potemkin” has been so famous f...  \n",
       "3  Dear Raven and Emil:\\n\\nSunday we sat on the b...  \n",
       "4  A lot of movies are said to be timeless, but s...  "
      ]
     },
     "execution_count": 39,
     "metadata": {},
     "output_type": "execute_result"
    }
   ],
   "source": [
    "# check DataFrame\n",
    "df.head()"
   ]
  },
  {
   "cell_type": "code",
   "execution_count": 43,
   "metadata": {},
   "outputs": [
    {
     "name": "stderr",
     "output_type": "stream",
     "text": [
      "en.wikipedia.org (query) E.T._the_Extra-Terrestrial\n",
      "en.wikipedia.org (parse) 73441\n",
      "www.wikidata.org (wikidata) Q11621\n",
      "www.wikidata.org (labels) Q1044183|P3808|Q823422|P5786|Q8877|P204...\n",
      "www.wikidata.org (labels) Q586356|P1431|Q354873|Q22006653|P5099|P...\n",
      "www.wikidata.org (labels) P2631|P3145|P5357|P227|P3844|Q464522|Q1...\n",
      "www.wikidata.org (labels) P1411|P3143|Q374540|Q4834543|P2704|Q131...\n",
      "en.wikipedia.org (restbase) /page/summary/E.T._the_Extra-Terrestrial\n",
      "en.wikipedia.org (imageinfo) File:ET logo 3.svg|File:E t the extr...\n",
      "E.T. the Extra-Terrestrial (en) data\n",
      "{\n",
      "  WARNINGS: <dict(1)> extracts\n",
      "  aliases: <list(2)> E.T., ET\n",
      "  assessments: <dict(4)> United States, Film, Science Fiction, Lib...\n",
      "  claims: <dict(96)> P1562, P57, P272, P345, P31, P161, P373, P480...\n",
      "  description: <str(63)> 1982 American science fiction film direct...\n",
      "  exhtml: <str(570)> <p><i><b>E.T. the Extra-Terrestrial</b></i> i...\n",
      "  exrest: <str(549)> E.T. the Extra-Terrestrial is a 1982 American...\n",
      "  extext: <str(1720)> _**E.T. the Extra-Terrestrial**_ is a 1982 A...\n",
      "  extract: <str(1824)> <p class=\"mw-empty-elt\"></p><p><i><b>E.T. t...\n",
      "  image: <list(4)> {'kind': 'parse-image', 'file': 'File:E t the e...\n",
      "  infobox: <dict(18)> name, image, caption, director, producers, w...\n",
      "  iwlinks: <list(6)> https://commons.wikimedia.org/wiki/Category:E...\n",
      "  label: E.T. the Extra-Terrestrial\n",
      "  labels: <dict(176)> Q1044183, P3808, Q823422, P5786, Q8877, P204...\n",
      "  length: 80,317\n",
      "  links: <list(465)> 12 Monkeys, 12 Years a Slave (film), 1941 (fi...\n",
      "  modified: <dict(2)> page, wikidata\n",
      "  pageid: 73441\n",
      "  parsetree: <str(100106)> <root><template><title>Redirect</title>...\n",
      "  random: Abyek-e Olya\n",
      "  redirects: <list(38)> {'pageid': 177061, 'ns': 0, 'title': 'E.T....\n",
      "  requests: <list(9)> query, parse, wikidata, labels, labels, labe...\n",
      "  title: E.T._the_Extra-Terrestrial\n",
      "  url: https://en.wikipedia.org/wiki/E.T._the_Extra-Terrestrial\n",
      "  url_raw: <str(67)> https://en.wikipedia.org/wiki/E.T._the_Extra-...\n",
      "  watchers: 300\n",
      "  what: film\n",
      "  wikibase: Q11621\n",
      "  wikidata: <dict(96)> AllMovie movie ID (P1562), director (P57), ...\n",
      "  wikidata_pageid: 13150\n",
      "  wikidata_url: https://www.wikidata.org/wiki/Q11621\n",
      "  wikitext: <str(80014)> {{Redirect|E.T.|other uses|ET (disambigua...\n",
      "}\n"
     ]
    }
   ],
   "source": [
    "# get the E.T. page object using wptools\n",
    "page = wptools.page('E.T._the_Extra-Terrestrial').get()"
   ]
  },
  {
   "cell_type": "code",
   "execution_count": 45,
   "metadata": {},
   "outputs": [
    {
     "data": {
      "text/plain": [
       "[{'kind': 'parse-image',\n",
       "  'file': 'File:E t the extra terrestrial ver3.jpg',\n",
       "  'orig': 'E t the extra terrestrial ver3.jpg',\n",
       "  'timestamp': '2016-06-04T10:30:46Z',\n",
       "  'size': 83073,\n",
       "  'width': 253,\n",
       "  'height': 394,\n",
       "  'url': 'https://upload.wikimedia.org/wikipedia/en/6/66/E_t_the_extra_terrestrial_ver3.jpg',\n",
       "  'descriptionurl': 'https://en.wikipedia.org/wiki/File:E_t_the_extra_terrestrial_ver3.jpg',\n",
       "  'descriptionshorturl': 'https://en.wikipedia.org/w/index.php?curid=7419503',\n",
       "  'title': 'File:E t the extra terrestrial ver3.jpg',\n",
       "  'metadata': {'DateTime': {'value': '2016-06-04 10:30:46',\n",
       "    'source': 'mediawiki-metadata',\n",
       "    'hidden': ''},\n",
       "   'ObjectName': {'value': 'E t the extra terrestrial ver3',\n",
       "    'source': 'mediawiki-metadata',\n",
       "    'hidden': ''},\n",
       "   'CommonsMetadataExtension': {'value': 1.2,\n",
       "    'source': 'extension',\n",
       "    'hidden': ''},\n",
       "   'Categories': {'value': 'All non-free media|E.T. the Extra-Terrestrial|Fair use images of movie posters|Files with no machine-readable author|Files with no machine-readable description|Files with no machine-readable license|Files with no machine-readable source|Noindexed pages|Non-free images for NFUR review|Non-free posters',\n",
       "    'source': 'commons-categories',\n",
       "    'hidden': ''},\n",
       "   'Assessments': {'value': '', 'source': 'commons-categories', 'hidden': ''},\n",
       "   'NonFree': {'value': 'true', 'source': 'commons-desc-page', 'hidden': ''},\n",
       "   'Restrictions': {'value': '',\n",
       "    'source': 'commons-desc-page',\n",
       "    'hidden': ''}}},\n",
       " {'file': 'File:ET logo 3.svg',\n",
       "  'kind': 'wikidata-image',\n",
       "  'orig': 'ET logo 3.svg',\n",
       "  'timestamp': '2011-05-14T20:38:17Z',\n",
       "  'size': 77290,\n",
       "  'width': 512,\n",
       "  'height': 380,\n",
       "  'url': 'https://upload.wikimedia.org/wikipedia/commons/8/85/ET_logo_3.svg',\n",
       "  'descriptionurl': 'https://commons.wikimedia.org/wiki/File:ET_logo_3.svg',\n",
       "  'descriptionshorturl': 'https://commons.wikimedia.org/w/index.php?curid=14138952',\n",
       "  'title': 'File:ET logo 3.svg',\n",
       "  'metadata': {'DateTime': {'value': '2011-05-14 20:38:17',\n",
       "    'source': 'mediawiki-metadata',\n",
       "    'hidden': ''},\n",
       "   'ObjectName': {'value': 'ET logo 3',\n",
       "    'source': 'mediawiki-metadata',\n",
       "    'hidden': ''},\n",
       "   'CommonsMetadataExtension': {'value': 1.2,\n",
       "    'source': 'extension',\n",
       "    'hidden': ''},\n",
       "   'Categories': {'value': 'E.T. the Extra-Terrestrial|PD ineligible|With trademark',\n",
       "    'source': 'commons-categories',\n",
       "    'hidden': ''},\n",
       "   'Assessments': {'value': '', 'source': 'commons-categories', 'hidden': ''},\n",
       "   'ImageDescription': {'value': 'Opening logo to the <a href=\"https://en.wikipedia.org/wiki/E.T._the_Extra-Terrestrial\" class=\"extiw\" title=\"en:E.T. the Extra-Terrestrial\">en:E.T. the Extra-Terrestrial</a> film',\n",
       "    'source': 'commons-desc-page'},\n",
       "   'DateTimeOriginal': {'value': '2011-02-28', 'source': 'commons-desc-page'},\n",
       "   'Credit': {'value': 'Transferred from <a class=\"external text\" href=\"https://en.wikipedia.org\">en.wikipedia</a>',\n",
       "    'source': 'commons-desc-page',\n",
       "    'hidden': ''},\n",
       "   'Artist': {'value': '<a href=\"https://en.wikipedia.org/wiki/en:User:TheCuriousGnome\" class=\"extiw\" title=\"w:en:User:TheCuriousGnome\">User:TheCuriousGnome</a>',\n",
       "    'source': 'commons-desc-page'},\n",
       "   'LicenseShortName': {'value': 'Public domain',\n",
       "    'source': 'commons-desc-page',\n",
       "    'hidden': ''},\n",
       "   'UsageTerms': {'value': 'Public domain',\n",
       "    'source': 'commons-desc-page',\n",
       "    'hidden': ''},\n",
       "   'AttributionRequired': {'value': 'false',\n",
       "    'source': 'commons-desc-page',\n",
       "    'hidden': ''},\n",
       "   'Copyrighted': {'value': 'False',\n",
       "    'source': 'commons-desc-page',\n",
       "    'hidden': ''},\n",
       "   'Restrictions': {'value': 'trademarked',\n",
       "    'source': 'commons-desc-page',\n",
       "    'hidden': ''},\n",
       "   'License': {'value': 'pd', 'source': 'commons-templates', 'hidden': ''}}},\n",
       " {'kind': 'restbase-original',\n",
       "  'width': 253,\n",
       "  'height': 394,\n",
       "  'url': 'https://upload.wikimedia.org/wikipedia/en/6/66/E_t_the_extra_terrestrial_ver3.jpg',\n",
       "  'file': 'File:E t the extra terrestrial ver3.jpg',\n",
       "  'orig': 'E_t_the_extra_terrestrial_ver3.jpg'},\n",
       " {'kind': 'restbase-thumb',\n",
       "  'width': 205,\n",
       "  'height': 320,\n",
       "  'url': 'https://upload.wikimedia.org/wikipedia/en/thumb/6/66/E_t_the_extra_terrestrial_ver3.jpg/205px-E_t_the_extra_terrestrial_ver3.jpg',\n",
       "  'file': 'File:205px-E t the extra terrestrial ver3.jpg',\n",
       "  'orig': '205px-E_t_the_extra_terrestrial_ver3.jpg'}]"
      ]
     },
     "execution_count": 45,
     "metadata": {},
     "output_type": "execute_result"
    }
   ],
   "source": [
    "# Access the image attribute, returning the images for the page\n",
    "page.data['image']"
   ]
  },
  {
   "cell_type": "code",
   "execution_count": 47,
   "metadata": {},
   "outputs": [
    {
     "data": {
      "text/plain": [
       "{'kind': 'parse-image',\n",
       " 'file': 'File:E t the extra terrestrial ver3.jpg',\n",
       " 'orig': 'E t the extra terrestrial ver3.jpg',\n",
       " 'timestamp': '2016-06-04T10:30:46Z',\n",
       " 'size': 83073,\n",
       " 'width': 253,\n",
       " 'height': 394,\n",
       " 'url': 'https://upload.wikimedia.org/wikipedia/en/6/66/E_t_the_extra_terrestrial_ver3.jpg',\n",
       " 'descriptionurl': 'https://en.wikipedia.org/wiki/File:E_t_the_extra_terrestrial_ver3.jpg',\n",
       " 'descriptionshorturl': 'https://en.wikipedia.org/w/index.php?curid=7419503',\n",
       " 'title': 'File:E t the extra terrestrial ver3.jpg',\n",
       " 'metadata': {'DateTime': {'value': '2016-06-04 10:30:46',\n",
       "   'source': 'mediawiki-metadata',\n",
       "   'hidden': ''},\n",
       "  'ObjectName': {'value': 'E t the extra terrestrial ver3',\n",
       "   'source': 'mediawiki-metadata',\n",
       "   'hidden': ''},\n",
       "  'CommonsMetadataExtension': {'value': 1.2,\n",
       "   'source': 'extension',\n",
       "   'hidden': ''},\n",
       "  'Categories': {'value': 'All non-free media|E.T. the Extra-Terrestrial|Fair use images of movie posters|Files with no machine-readable author|Files with no machine-readable description|Files with no machine-readable license|Files with no machine-readable source|Noindexed pages|Non-free images for NFUR review|Non-free posters',\n",
       "   'source': 'commons-categories',\n",
       "   'hidden': ''},\n",
       "  'Assessments': {'value': '', 'source': 'commons-categories', 'hidden': ''},\n",
       "  'NonFree': {'value': 'true', 'source': 'commons-desc-page', 'hidden': ''},\n",
       "  'Restrictions': {'value': '', 'source': 'commons-desc-page', 'hidden': ''}}}"
      ]
     },
     "execution_count": 47,
     "metadata": {},
     "output_type": "execute_result"
    }
   ],
   "source": [
    "# Access first image\n",
    "page.data['image'][0]"
   ]
  },
  {
   "cell_type": "code",
   "execution_count": 48,
   "metadata": {},
   "outputs": [
    {
     "data": {
      "text/plain": [
       "'[[Steven Spielberg]]'"
      ]
     },
     "execution_count": 48,
     "metadata": {},
     "output_type": "execute_result"
    }
   ],
   "source": [
    "# Access director name\n",
    "page.data['infobox']['director']"
   ]
  },
  {
   "cell_type": "code",
   "execution_count": null,
   "metadata": {},
   "outputs": [],
   "source": [
    "# query the MediaWiki API using wptools to get a movie poster URL\n",
    "# via each page object's image attribute\n",
    "\n",
    "# using that URL, programmatically download that image into a\n",
    "#folder called bestofrt_posters"
   ]
  },
  {
   "cell_type": "code",
   "execution_count": 50,
   "metadata": {},
   "outputs": [
    {
     "data": {
      "text/plain": [
       "[{'kind': 'parse-image',\n",
       "  'file': 'File:E t the extra terrestrial ver3.jpg',\n",
       "  'orig': 'E t the extra terrestrial ver3.jpg',\n",
       "  'timestamp': '2016-06-04T10:30:46Z',\n",
       "  'size': 83073,\n",
       "  'width': 253,\n",
       "  'height': 394,\n",
       "  'url': 'https://upload.wikimedia.org/wikipedia/en/6/66/E_t_the_extra_terrestrial_ver3.jpg',\n",
       "  'descriptionurl': 'https://en.wikipedia.org/wiki/File:E_t_the_extra_terrestrial_ver3.jpg',\n",
       "  'descriptionshorturl': 'https://en.wikipedia.org/w/index.php?curid=7419503',\n",
       "  'title': 'File:E t the extra terrestrial ver3.jpg',\n",
       "  'metadata': {'DateTime': {'value': '2016-06-04 10:30:46',\n",
       "    'source': 'mediawiki-metadata',\n",
       "    'hidden': ''},\n",
       "   'ObjectName': {'value': 'E t the extra terrestrial ver3',\n",
       "    'source': 'mediawiki-metadata',\n",
       "    'hidden': ''},\n",
       "   'CommonsMetadataExtension': {'value': 1.2,\n",
       "    'source': 'extension',\n",
       "    'hidden': ''},\n",
       "   'Categories': {'value': 'All non-free media|E.T. the Extra-Terrestrial|Fair use images of movie posters|Files with no machine-readable author|Files with no machine-readable description|Files with no machine-readable license|Files with no machine-readable source|Noindexed pages|Non-free images for NFUR review|Non-free posters',\n",
       "    'source': 'commons-categories',\n",
       "    'hidden': ''},\n",
       "   'Assessments': {'value': '', 'source': 'commons-categories', 'hidden': ''},\n",
       "   'NonFree': {'value': 'true', 'source': 'commons-desc-page', 'hidden': ''},\n",
       "   'Restrictions': {'value': '',\n",
       "    'source': 'commons-desc-page',\n",
       "    'hidden': ''}}},\n",
       " {'file': 'File:ET logo 3.svg',\n",
       "  'kind': 'wikidata-image',\n",
       "  'orig': 'ET logo 3.svg',\n",
       "  'timestamp': '2011-05-14T20:38:17Z',\n",
       "  'size': 77290,\n",
       "  'width': 512,\n",
       "  'height': 380,\n",
       "  'url': 'https://upload.wikimedia.org/wikipedia/commons/8/85/ET_logo_3.svg',\n",
       "  'descriptionurl': 'https://commons.wikimedia.org/wiki/File:ET_logo_3.svg',\n",
       "  'descriptionshorturl': 'https://commons.wikimedia.org/w/index.php?curid=14138952',\n",
       "  'title': 'File:ET logo 3.svg',\n",
       "  'metadata': {'DateTime': {'value': '2011-05-14 20:38:17',\n",
       "    'source': 'mediawiki-metadata',\n",
       "    'hidden': ''},\n",
       "   'ObjectName': {'value': 'ET logo 3',\n",
       "    'source': 'mediawiki-metadata',\n",
       "    'hidden': ''},\n",
       "   'CommonsMetadataExtension': {'value': 1.2,\n",
       "    'source': 'extension',\n",
       "    'hidden': ''},\n",
       "   'Categories': {'value': 'E.T. the Extra-Terrestrial|PD ineligible|With trademark',\n",
       "    'source': 'commons-categories',\n",
       "    'hidden': ''},\n",
       "   'Assessments': {'value': '', 'source': 'commons-categories', 'hidden': ''},\n",
       "   'ImageDescription': {'value': 'Opening logo to the <a href=\"https://en.wikipedia.org/wiki/E.T._the_Extra-Terrestrial\" class=\"extiw\" title=\"en:E.T. the Extra-Terrestrial\">en:E.T. the Extra-Terrestrial</a> film',\n",
       "    'source': 'commons-desc-page'},\n",
       "   'DateTimeOriginal': {'value': '2011-02-28', 'source': 'commons-desc-page'},\n",
       "   'Credit': {'value': 'Transferred from <a class=\"external text\" href=\"https://en.wikipedia.org\">en.wikipedia</a>',\n",
       "    'source': 'commons-desc-page',\n",
       "    'hidden': ''},\n",
       "   'Artist': {'value': '<a href=\"https://en.wikipedia.org/wiki/en:User:TheCuriousGnome\" class=\"extiw\" title=\"w:en:User:TheCuriousGnome\">User:TheCuriousGnome</a>',\n",
       "    'source': 'commons-desc-page'},\n",
       "   'LicenseShortName': {'value': 'Public domain',\n",
       "    'source': 'commons-desc-page',\n",
       "    'hidden': ''},\n",
       "   'UsageTerms': {'value': 'Public domain',\n",
       "    'source': 'commons-desc-page',\n",
       "    'hidden': ''},\n",
       "   'AttributionRequired': {'value': 'false',\n",
       "    'source': 'commons-desc-page',\n",
       "    'hidden': ''},\n",
       "   'Copyrighted': {'value': 'False',\n",
       "    'source': 'commons-desc-page',\n",
       "    'hidden': ''},\n",
       "   'Restrictions': {'value': 'trademarked',\n",
       "    'source': 'commons-desc-page',\n",
       "    'hidden': ''},\n",
       "   'License': {'value': 'pd', 'source': 'commons-templates', 'hidden': ''}}},\n",
       " {'kind': 'restbase-original',\n",
       "  'width': 253,\n",
       "  'height': 394,\n",
       "  'url': 'https://upload.wikimedia.org/wikipedia/en/6/66/E_t_the_extra_terrestrial_ver3.jpg',\n",
       "  'file': 'File:E t the extra terrestrial ver3.jpg',\n",
       "  'orig': 'E_t_the_extra_terrestrial_ver3.jpg'},\n",
       " {'kind': 'restbase-thumb',\n",
       "  'width': 205,\n",
       "  'height': 320,\n",
       "  'url': 'https://upload.wikimedia.org/wikipedia/en/thumb/6/66/E_t_the_extra_terrestrial_ver3.jpg/205px-E_t_the_extra_terrestrial_ver3.jpg',\n",
       "  'file': 'File:205px-E t the extra terrestrial ver3.jpg',\n",
       "  'orig': '205px-E_t_the_extra_terrestrial_ver3.jpg'}]"
      ]
     },
     "execution_count": 50,
     "metadata": {},
     "output_type": "execute_result"
    }
   ],
   "source": [
    "images = page.data['image']\n",
    "images"
   ]
  },
  {
   "cell_type": "code",
   "execution_count": 51,
   "metadata": {},
   "outputs": [
    {
     "data": {
      "text/plain": [
       "'https://upload.wikimedia.org/wikipedia/en/6/66/E_t_the_extra_terrestrial_ver3.jpg'"
      ]
     },
     "execution_count": 51,
     "metadata": {},
     "output_type": "execute_result"
    }
   ],
   "source": [
    "images[0]['url']"
   ]
  },
  {
   "cell_type": "code",
   "execution_count": null,
   "metadata": {},
   "outputs": [],
   "source": []
  }
 ],
 "metadata": {
  "kernelspec": {
   "display_name": "Python 3",
   "language": "python",
   "name": "python3"
  },
  "language_info": {
   "codemirror_mode": {
    "name": "ipython",
    "version": 3
   },
   "file_extension": ".py",
   "mimetype": "text/x-python",
   "name": "python",
   "nbconvert_exporter": "python",
   "pygments_lexer": "ipython3",
   "version": "3.7.3"
  }
 },
 "nbformat": 4,
 "nbformat_minor": 2
}
